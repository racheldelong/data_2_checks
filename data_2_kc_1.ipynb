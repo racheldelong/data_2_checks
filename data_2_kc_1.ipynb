{
 "cells": [
  {
   "cell_type": "code",
   "execution_count": 7,
   "metadata": {},
   "outputs": [],
   "source": [
    "import pandas as pd\n",
    "import numpy as np"
   ]
  },
  {
   "cell_type": "markdown",
   "metadata": {},
   "source": [
    "##### Pull in data from an API."
   ]
  },
  {
   "cell_type": "code",
   "execution_count": 2,
   "metadata": {},
   "outputs": [],
   "source": [
    "names = ['jonathan','jennie','morgan','maggie','rachel','ben']\n",
    "batch = ''\n",
    "\n",
    "for name in names:\n",
    "    batch = batch + '&name[]=' + name + '&country_id=US'\n",
    "\n",
    "url = 'https://api.agify.io?' + batch\n",
    "\n",
    "df = pd.read_json(url)"
   ]
  },
  {
   "cell_type": "code",
   "execution_count": 3,
   "metadata": {},
   "outputs": [],
   "source": [
    "ages = [42, 40, 37, 34, 34, 32]\n",
    "\n",
    "df['actual_age'] = np.array(ages)\n",
    "\n",
    "df.rename(columns={'age':'predicted_age'}, inplace=True)\n",
    "\n",
    "df = df[['country_id','name','count', 'predicted_age','actual_age']]\n",
    "\n",
    "display(df)"
   ]
  },
  {
   "cell_type": "markdown",
   "metadata": {},
   "source": [
    "##### Find and print TWO descriptive statistics about your data."
   ]
  },
  {
   "cell_type": "code",
   "execution_count": 4,
   "metadata": {},
   "outputs": [
    {
     "name": "stdout",
     "output_type": "stream",
     "text": [
      "mean actual age: 36 \n",
      "mean predicted age: 46\n"
     ]
    }
   ],
   "source": [
    "p_mean = df['predicted_age'].mean()\n",
    "a_mean = df['actual_age'].mean()\n",
    "\n",
    "print('mean actual age: {:.0f} \\nmean predicted age: {:.0f}'.format((a_mean),(p_mean)))"
   ]
  },
  {
   "cell_type": "code",
   "execution_count": 5,
   "metadata": {},
   "outputs": [
    {
     "name": "stdout",
     "output_type": "stream",
     "text": [
      "max actual age: 42 \n",
      "max predicted age: 60\n"
     ]
    }
   ],
   "source": [
    "p_max = df['predicted_age'].max()\n",
    "a_max = df['actual_age'].max()\n",
    "\n",
    "print('max actual age: {:.0f} \\nmax predicted age: {:.0f}'.format((a_max),(p_max)))"
   ]
  },
  {
   "cell_type": "markdown",
   "metadata": {},
   "source": [
    "##### Write a query in Pandas to select a particular set of your data."
   ]
  },
  {
   "cell_type": "code",
   "execution_count": 11,
   "metadata": {},
   "outputs": [
    {
     "data": {
      "text/html": [
       "<div>\n",
       "<style scoped>\n",
       "    .dataframe tbody tr th:only-of-type {\n",
       "        vertical-align: middle;\n",
       "    }\n",
       "\n",
       "    .dataframe tbody tr th {\n",
       "        vertical-align: top;\n",
       "    }\n",
       "\n",
       "    .dataframe thead th {\n",
       "        text-align: right;\n",
       "    }\n",
       "</style>\n",
       "<table border=\"1\" class=\"dataframe\">\n",
       "  <thead>\n",
       "    <tr style=\"text-align: right;\">\n",
       "      <th></th>\n",
       "      <th>country_id</th>\n",
       "      <th>name</th>\n",
       "      <th>count</th>\n",
       "      <th>predicted_age</th>\n",
       "      <th>actual_age</th>\n",
       "    </tr>\n",
       "  </thead>\n",
       "  <tbody>\n",
       "    <tr>\n",
       "      <th>2</th>\n",
       "      <td>US</td>\n",
       "      <td>morgan</td>\n",
       "      <td>2487</td>\n",
       "      <td>36</td>\n",
       "      <td>37</td>\n",
       "    </tr>\n",
       "  </tbody>\n",
       "</table>\n",
       "</div>"
      ],
      "text/plain": [
       "  country_id    name  count  predicted_age  actual_age\n",
       "2         US  morgan   2487             36          37"
      ]
     },
     "execution_count": 11,
     "metadata": {},
     "output_type": "execute_result"
    }
   ],
   "source": [
    "df.query('actual_age > predicted_age')"
   ]
  },
  {
   "cell_type": "markdown",
   "metadata": {},
   "source": [
    "##### Select and print the SECOND AND THIRD columns of your data frame."
   ]
  },
  {
   "cell_type": "code",
   "execution_count": 9,
   "metadata": {},
   "outputs": [
    {
     "name": "stdout",
     "output_type": "stream",
     "text": [
      "       name  count\n",
      "0  jonathan  20794\n",
      "1    jennie   1012\n",
      "2    morgan   2487\n",
      "3    maggie   2100\n",
      "4    rachel   9217\n",
      "5       ben  10936\n"
     ]
    }
   ],
   "source": [
    "print(df.iloc[:, [1, 2]])"
   ]
  },
  {
   "cell_type": "markdown",
   "metadata": {},
   "source": [
    "##### Select and print the FIRST 4 rows of you data frame."
   ]
  },
  {
   "cell_type": "code",
   "execution_count": 10,
   "metadata": {},
   "outputs": [
    {
     "name": "stdout",
     "output_type": "stream",
     "text": [
      "  country_id      name  count  predicted_age  actual_age\n",
      "0         US  jonathan  20794             42          42\n",
      "1         US    jennie   1012             60          40\n",
      "2         US    morgan   2487             36          37\n",
      "3         US    maggie   2100             51          34\n"
     ]
    }
   ],
   "source": [
    "print(df.head(4))"
   ]
  }
 ],
 "metadata": {
  "kernelspec": {
   "display_name": "Python 3.9.13 ('cky')",
   "language": "python",
   "name": "python3"
  },
  "language_info": {
   "codemirror_mode": {
    "name": "ipython",
    "version": 3
   },
   "file_extension": ".py",
   "mimetype": "text/x-python",
   "name": "python",
   "nbconvert_exporter": "python",
   "pygments_lexer": "ipython3",
   "version": "3.9.13"
  },
  "orig_nbformat": 4,
  "vscode": {
   "interpreter": {
    "hash": "647886b26dc6b91f9b2a4588ba7cdc2dc5d01996522d6f908beccd6ae1e6ffae"
   }
  }
 },
 "nbformat": 4,
 "nbformat_minor": 2
}
